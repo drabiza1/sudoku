{
 "cells": [
  {
   "cell_type": "code",
   "execution_count": 2,
   "metadata": {},
   "outputs": [
    {
     "name": "stdout",
     "output_type": "stream",
     "text": [
      "Populating the interactive namespace from numpy and matplotlib\n"
     ]
    }
   ],
   "source": [
    "%pylab inline"
   ]
  },
  {
   "cell_type": "code",
   "execution_count": 6,
   "metadata": {},
   "outputs": [],
   "source": [
    "puz = zeros((9,9))"
   ]
  },
  {
   "cell_type": "code",
   "execution_count": 6,
   "metadata": {},
   "outputs": [],
   "source": [
    "box ={1:[0,3,0,3], 2:[0,3,3,6], 3:[0,3,6,9],\n",
    "      4:[3,6,0,3], 5:[3,6,3,6], 6:[3,6,6,9],\n",
    "      7:[6,9,0,3], 8:[6,9,3,6], 9:[6,9,6,9]}\n",
    "get_box = {}\n",
    "for g in box.keys():\n",
    "    f1 = box[g]\n",
    "    for i in range(f1[0],f1[1]):\n",
    "        for r in range(f1[2],f1[3]):\n",
    "            get_box[(i,r)] = f1"
   ]
  },
  {
   "cell_type": "code",
   "execution_count": null,
   "metadata": {},
   "outputs": [],
   "source": [
    "Row:  0\n",
    "975283164\n",
    "Row:  1\n",
    "126459873\n",
    "Row:  2\n",
    "834176592\n",
    "Row:  3\n",
    "792348651\n",
    "Row:  4\n",
    "651792438\n",
    "Row:  5\n",
    "000000000\n",
    "Row:  6\n",
    "000000000\n",
    "Row:  7\n",
    "317964285\n",
    "Row:  8\n",
    "000000000"
   ]
  },
  {
   "cell_type": "code",
   "execution_count": 110,
   "metadata": {
    "scrolled": true
   },
   "outputs": [
    {
     "name": "stdout",
     "output_type": "stream",
     "text": [
      "Row:  0\n"
     ]
    },
    {
     "ename": "KeyboardInterrupt",
     "evalue": "",
     "output_type": "error",
     "traceback": [
      "\u001b[0;31m---------------------------------------------------------------------------\u001b[0m",
      "\u001b[0;31mKeyboardInterrupt\u001b[0m                         Traceback (most recent call last)",
      "\u001b[0;32m/Library/Frameworks/Python.framework/Versions/3.6/lib/python3.6/site-packages/ipykernel/kernelbase.py\u001b[0m in \u001b[0;36m_input_request\u001b[0;34m(self, prompt, ident, parent, password)\u001b[0m\n\u001b[1;32m    728\u001b[0m             \u001b[0;32mtry\u001b[0m\u001b[0;34m:\u001b[0m\u001b[0;34m\u001b[0m\u001b[0m\n\u001b[0;32m--> 729\u001b[0;31m                 \u001b[0mident\u001b[0m\u001b[0;34m,\u001b[0m \u001b[0mreply\u001b[0m \u001b[0;34m=\u001b[0m \u001b[0mself\u001b[0m\u001b[0;34m.\u001b[0m\u001b[0msession\u001b[0m\u001b[0;34m.\u001b[0m\u001b[0mrecv\u001b[0m\u001b[0;34m(\u001b[0m\u001b[0mself\u001b[0m\u001b[0;34m.\u001b[0m\u001b[0mstdin_socket\u001b[0m\u001b[0;34m,\u001b[0m \u001b[0;36m0\u001b[0m\u001b[0;34m)\u001b[0m\u001b[0;34m\u001b[0m\u001b[0m\n\u001b[0m\u001b[1;32m    730\u001b[0m             \u001b[0;32mexcept\u001b[0m \u001b[0mException\u001b[0m\u001b[0;34m:\u001b[0m\u001b[0;34m\u001b[0m\u001b[0m\n",
      "\u001b[0;32m/Library/Frameworks/Python.framework/Versions/3.6/lib/python3.6/site-packages/jupyter_client/session.py\u001b[0m in \u001b[0;36mrecv\u001b[0;34m(self, socket, mode, content, copy)\u001b[0m\n\u001b[1;32m    802\u001b[0m         \u001b[0;32mtry\u001b[0m\u001b[0;34m:\u001b[0m\u001b[0;34m\u001b[0m\u001b[0m\n\u001b[0;32m--> 803\u001b[0;31m             \u001b[0mmsg_list\u001b[0m \u001b[0;34m=\u001b[0m \u001b[0msocket\u001b[0m\u001b[0;34m.\u001b[0m\u001b[0mrecv_multipart\u001b[0m\u001b[0;34m(\u001b[0m\u001b[0mmode\u001b[0m\u001b[0;34m,\u001b[0m \u001b[0mcopy\u001b[0m\u001b[0;34m=\u001b[0m\u001b[0mcopy\u001b[0m\u001b[0;34m)\u001b[0m\u001b[0;34m\u001b[0m\u001b[0m\n\u001b[0m\u001b[1;32m    804\u001b[0m         \u001b[0;32mexcept\u001b[0m \u001b[0mzmq\u001b[0m\u001b[0;34m.\u001b[0m\u001b[0mZMQError\u001b[0m \u001b[0;32mas\u001b[0m \u001b[0me\u001b[0m\u001b[0;34m:\u001b[0m\u001b[0;34m\u001b[0m\u001b[0m\n",
      "\u001b[0;32m/Library/Frameworks/Python.framework/Versions/3.6/lib/python3.6/site-packages/zmq/sugar/socket.py\u001b[0m in \u001b[0;36mrecv_multipart\u001b[0;34m(self, flags, copy, track)\u001b[0m\n\u001b[1;32m    466\u001b[0m         \"\"\"\n\u001b[0;32m--> 467\u001b[0;31m         \u001b[0mparts\u001b[0m \u001b[0;34m=\u001b[0m \u001b[0;34m[\u001b[0m\u001b[0mself\u001b[0m\u001b[0;34m.\u001b[0m\u001b[0mrecv\u001b[0m\u001b[0;34m(\u001b[0m\u001b[0mflags\u001b[0m\u001b[0;34m,\u001b[0m \u001b[0mcopy\u001b[0m\u001b[0;34m=\u001b[0m\u001b[0mcopy\u001b[0m\u001b[0;34m,\u001b[0m \u001b[0mtrack\u001b[0m\u001b[0;34m=\u001b[0m\u001b[0mtrack\u001b[0m\u001b[0;34m)\u001b[0m\u001b[0;34m]\u001b[0m\u001b[0;34m\u001b[0m\u001b[0m\n\u001b[0m\u001b[1;32m    468\u001b[0m         \u001b[0;31m# have first part already, only loop while more to receive\u001b[0m\u001b[0;34m\u001b[0m\u001b[0;34m\u001b[0m\u001b[0m\n",
      "\u001b[0;32mzmq/backend/cython/socket.pyx\u001b[0m in \u001b[0;36mzmq.backend.cython.socket.Socket.recv\u001b[0;34m()\u001b[0m\n",
      "\u001b[0;32mzmq/backend/cython/socket.pyx\u001b[0m in \u001b[0;36mzmq.backend.cython.socket.Socket.recv\u001b[0;34m()\u001b[0m\n",
      "\u001b[0;32mzmq/backend/cython/socket.pyx\u001b[0m in \u001b[0;36mzmq.backend.cython.socket._recv_copy\u001b[0;34m()\u001b[0m\n",
      "\u001b[0;32m/Library/Frameworks/Python.framework/Versions/3.6/lib/python3.6/site-packages/zmq/backend/cython/checkrc.pxd\u001b[0m in \u001b[0;36mzmq.backend.cython.checkrc._check_rc\u001b[0;34m()\u001b[0m\n",
      "\u001b[0;31mKeyboardInterrupt\u001b[0m: ",
      "\nDuring handling of the above exception, another exception occurred:\n",
      "\u001b[0;31mKeyboardInterrupt\u001b[0m                         Traceback (most recent call last)",
      "\u001b[0;32m<ipython-input-110-e78acf6956dd>\u001b[0m in \u001b[0;36m<module>\u001b[0;34m()\u001b[0m\n\u001b[1;32m      2\u001b[0m \u001b[0;32mfor\u001b[0m \u001b[0ma1\u001b[0m \u001b[0;32min\u001b[0m \u001b[0mrange\u001b[0m\u001b[0;34m(\u001b[0m\u001b[0;36m9\u001b[0m\u001b[0;34m)\u001b[0m\u001b[0;34m:\u001b[0m\u001b[0;34m\u001b[0m\u001b[0m\n\u001b[1;32m      3\u001b[0m     \u001b[0mprint\u001b[0m\u001b[0;34m(\u001b[0m\u001b[0;34m'Row: '\u001b[0m\u001b[0;34m,\u001b[0m \u001b[0ma1\u001b[0m\u001b[0;34m)\u001b[0m\u001b[0;34m\u001b[0m\u001b[0m\n\u001b[0;32m----> 4\u001b[0;31m     \u001b[0ms1\u001b[0m \u001b[0;34m=\u001b[0m \u001b[0;34m[\u001b[0m\u001b[0mint\u001b[0m\u001b[0;34m(\u001b[0m\u001b[0mv\u001b[0m\u001b[0;34m)\u001b[0m \u001b[0;32mfor\u001b[0m \u001b[0mv\u001b[0m \u001b[0;32min\u001b[0m \u001b[0minput\u001b[0m\u001b[0;34m(\u001b[0m\u001b[0;34m)\u001b[0m\u001b[0;34m]\u001b[0m\u001b[0;34m\u001b[0m\u001b[0m\n\u001b[0m\u001b[1;32m      5\u001b[0m     \u001b[0mlist1\u001b[0m\u001b[0;34m.\u001b[0m\u001b[0mappend\u001b[0m\u001b[0;34m(\u001b[0m\u001b[0ms1\u001b[0m\u001b[0;34m)\u001b[0m\u001b[0;34m\u001b[0m\u001b[0m\n\u001b[1;32m      6\u001b[0m \u001b[0mpuz\u001b[0m \u001b[0;34m=\u001b[0m \u001b[0mvstack\u001b[0m\u001b[0;34m(\u001b[0m\u001b[0mlist1\u001b[0m\u001b[0;34m)\u001b[0m\u001b[0;34m\u001b[0m\u001b[0m\n",
      "\u001b[0;32m/Library/Frameworks/Python.framework/Versions/3.6/lib/python3.6/site-packages/ipykernel/kernelbase.py\u001b[0m in \u001b[0;36mraw_input\u001b[0;34m(self, prompt)\u001b[0m\n\u001b[1;32m    702\u001b[0m             \u001b[0mself\u001b[0m\u001b[0;34m.\u001b[0m\u001b[0m_parent_ident\u001b[0m\u001b[0;34m,\u001b[0m\u001b[0;34m\u001b[0m\u001b[0m\n\u001b[1;32m    703\u001b[0m             \u001b[0mself\u001b[0m\u001b[0;34m.\u001b[0m\u001b[0m_parent_header\u001b[0m\u001b[0;34m,\u001b[0m\u001b[0;34m\u001b[0m\u001b[0m\n\u001b[0;32m--> 704\u001b[0;31m             \u001b[0mpassword\u001b[0m\u001b[0;34m=\u001b[0m\u001b[0;32mFalse\u001b[0m\u001b[0;34m,\u001b[0m\u001b[0;34m\u001b[0m\u001b[0m\n\u001b[0m\u001b[1;32m    705\u001b[0m         )\n\u001b[1;32m    706\u001b[0m \u001b[0;34m\u001b[0m\u001b[0m\n",
      "\u001b[0;32m/Library/Frameworks/Python.framework/Versions/3.6/lib/python3.6/site-packages/ipykernel/kernelbase.py\u001b[0m in \u001b[0;36m_input_request\u001b[0;34m(self, prompt, ident, parent, password)\u001b[0m\n\u001b[1;32m    732\u001b[0m             \u001b[0;32mexcept\u001b[0m \u001b[0mKeyboardInterrupt\u001b[0m\u001b[0;34m:\u001b[0m\u001b[0;34m\u001b[0m\u001b[0m\n\u001b[1;32m    733\u001b[0m                 \u001b[0;31m# re-raise KeyboardInterrupt, to truncate traceback\u001b[0m\u001b[0;34m\u001b[0m\u001b[0;34m\u001b[0m\u001b[0m\n\u001b[0;32m--> 734\u001b[0;31m                 \u001b[0;32mraise\u001b[0m \u001b[0mKeyboardInterrupt\u001b[0m\u001b[0;34m\u001b[0m\u001b[0m\n\u001b[0m\u001b[1;32m    735\u001b[0m             \u001b[0;32melse\u001b[0m\u001b[0;34m:\u001b[0m\u001b[0;34m\u001b[0m\u001b[0m\n\u001b[1;32m    736\u001b[0m                 \u001b[0;32mbreak\u001b[0m\u001b[0;34m\u001b[0m\u001b[0m\n",
      "\u001b[0;31mKeyboardInterrupt\u001b[0m: "
     ]
    }
   ],
   "source": [
    "list1 = []\n",
    "for a1 in range(9): \n",
    "    print('Row: ', a1)\n",
    "    s1 = [int(v) for v in input()]\n",
    "    list1.append(s1)\n",
    "puz = vstack(list1)\n",
    "    "
   ]
  },
  {
   "cell_type": "code",
   "execution_count": 672,
   "metadata": {},
   "outputs": [],
   "source": [
    "def printp(x):\n",
    "    for r in range(0,9):\n",
    "        if (r ==3) or (r ==6):\n",
    "            print(' ---------------------')\n",
    "        s1 = ''\n",
    "        cnt=0\n",
    "        for i in x[r,:]: \n",
    "            if (cnt ==3) or (cnt ==6):\n",
    "                s1 = s1+' |'\n",
    "            s1 = s1+' '+str(int(i))\n",
    "            cnt+=1\n",
    "        print(s1)"
   ]
  },
  {
   "cell_type": "code",
   "execution_count": 1017,
   "metadata": {},
   "outputs": [],
   "source": [
    "puz = array(\n",
    "      [[0, 0, 0, 9, 1, 3, 0, 0, 0],\n",
    "       [0, 0, 0, 0, 0, 0, 0, 0, 0],\n",
    "       [7, 9, 0, 0, 5, 0, 0, 0, 3],\n",
    "       [0, 0, 0, 0, 0, 8, 6, 7, 4],\n",
    "       [0, 3, 0, 0, 6, 2, 0, 0, 0],\n",
    "       [5, 0, 0, 0, 0, 0, 0, 1, 0],\n",
    "       [6, 0, 0, 0, 0, 0, 0, 0, 0],\n",
    "       [0, 0, 8, 7, 0, 0, 0, 0, 9],\n",
    "       [3, 0, 0, 0, 9, 0, 5, 0, 0]])"
   ]
  },
  {
   "cell_type": "code",
   "execution_count": 1021,
   "metadata": {},
   "outputs": [],
   "source": [
    "puz = array(\n",
    "      [[0, 0, 0, 0, 1, 3, 0, 0, 0],\n",
    "       [0, 0, 0, 0, 0, 0, 0, 0, 0],\n",
    "       [7, 9, 0, 0, 5, 0, 0, 0, 3],\n",
    "       [0, 0, 0, 0, 0, 0, 0, 7, 4],\n",
    "       [0, 3, 0, 0, 6, 2, 0, 0, 0],\n",
    "       [5, 0, 0, 0, 0, 0, 0, 1, 0],\n",
    "       [6, 0, 0, 0, 0, 0, 0, 0, 0],\n",
    "       [0, 0, 0, 7, 0, 0, 0, 0, 9],\n",
    "       [3, 0, 0, 0, 0, 0, 0, 0, 0]])"
   ]
  },
  {
   "cell_type": "code",
   "execution_count": 1022,
   "metadata": {},
   "outputs": [],
   "source": [
    "puzzles = []\n",
    "guesses = []\n",
    "spots = []\n",
    "save_new = []\n",
    "new_all = []"
   ]
  },
  {
   "cell_type": "code",
   "execution_count": 1023,
   "metadata": {},
   "outputs": [],
   "source": [
    "new = {}\n",
    "perm = {}\n",
    "for r1 in range(9):\n",
    "    for r2 in where(puz[r1,:]==0)[0]: \n",
    "        new[(r1,r2)] = []\n",
    "for r1 in range(9):\n",
    "    for r2 in where(puz[r1,:]!=0)[0]: \n",
    "        perm[(r1,r2)] = puz[r1,r2] \n",
    "number_left = [new.keys()]\n"
   ]
  },
  {
   "cell_type": "code",
   "execution_count": 1024,
   "metadata": {},
   "outputs": [
    {
     "name": "stdout",
     "output_type": "stream",
     "text": [
      " 4 5 8 | 6 1 3 | 7 9 2\n",
      " 2 6 3 | 8 7 9 | 1 4 5\n",
      " 7 9 1 | 2 5 4 | 6 8 3\n",
      " ---------------------\n",
      " 9 2 6 | 5 8 1 | 3 7 4\n",
      " 1 3 7 | 4 6 2 | 9 5 8\n",
      " 5 8 4 | 9 3 7 | 2 1 6\n",
      " ---------------------\n",
      " 6 7 9 | 3 4 8 | 5 2 1\n",
      " 8 1 5 | 7 2 6 | 4 3 9\n",
      " 3 4 2 | 1 9 5 | 8 6 7\n"
     ]
    }
   ],
   "source": [
    "#SOLVE\n",
    "\n",
    "x = 0 \n",
    "cnt1=0\n",
    "while x!= 'DONE!':\n",
    "    x = solve(puz)\n",
    "    cnt1 +=1\n",
    "    if x == 'BREAK':\n",
    "        guess()\n",
    "    elif x == 'Error':\n",
    "        backtrack()\n",
    "    if cnt1==100:\n",
    "        break\n",
    "printp(puz)"
   ]
  },
  {
   "cell_type": "code",
   "execution_count": 993,
   "metadata": {},
   "outputs": [],
   "source": [
    "def guess(): \n",
    "    cnt=0\n",
    "    puzzles.append( puz.copy() ) \n",
    "    new_all.append( new.copy() ) \n",
    "    for i in new.keys():\n",
    "        if len(new[i])==2: #Here >>\n",
    "            spot = i\n",
    "            cnt =1\n",
    "            break\n",
    "    g1 = list(new[spot])[0]\n",
    "    puz[spot[0],spot[1]] = g1\n",
    "    guesses.append(list(new[spot])[1:] )\n",
    "    spots.append(spot)\n",
    "    save_new.append(new[spot])\n",
    "    del new[spot]\n",
    "    if cnt ==0:\n",
    "        print('Problemo')\n",
    "           \n",
    "def backtrack():\n",
    "    global new\n",
    "    global puz\n",
    "    if len(guesses[-1]) !=0:\n",
    "        g1 = guesses[-1][0]\n",
    "        puz = puzzles[-1]\n",
    "        new = new_all[-1]\n",
    "        spot = spots[-1]\n",
    "        puz[spot[0],spot[1]] = g1\n",
    "        guesses[-1].pop() #fix this when we choose then more than 2 options ^^^\n",
    "        del new[spot]\n",
    "        return puz, new\n",
    "    else:\n",
    "        guesses.pop()\n",
    "        new[spots[-1]] = save_new[-1]\n",
    "        save_new.pop()\n",
    "        spots.pop()\n",
    "        puzzles.pop()\n",
    "        new_all.pop()\n",
    "        backtrack()\n",
    "        \n",
    "    "
   ]
  },
  {
   "cell_type": "code",
   "execution_count": 987,
   "metadata": {
    "scrolled": true
   },
   "outputs": [],
   "source": [
    "def solve(puzzle):\n",
    "    while len(new.keys()) > 0: \n",
    "        dels = []\n",
    "        for i in new.keys():\n",
    "            try1 = i\n",
    "            c1 = set(range(1,10))- set(puz[:,try1[1]]) #column\n",
    "            r1 = set(range(1,10))- set(puz[try1[0],:]) #row\n",
    "            y1 = get_box[try1]\n",
    "            b1 = set(range(1,10))-set(hstack(puz[y1[0]:y1[1],y1[2]:y1[3]])) #box\n",
    "            cand = r1 & c1 & b1\n",
    "            if len(cand) == 0: \n",
    "                return 'Error'\n",
    "            new[try1] = cand\n",
    "            if len(cand)==1:\n",
    "                #print(try1)\n",
    "                puz[i[0],i[1]] = list(cand)[0]\n",
    "                dels.append(try1)\n",
    "        for i in dels: \n",
    "            del new[i]\n",
    "            #print('deleted' ,i)\n",
    "        for cols in range(9):\n",
    "            remaining = set(range(1,10)) - set(puz[:,cols])\n",
    "            pos1 = where(puz[:,cols]==0)[0]\n",
    "            for i in remaining: \n",
    "                try2 = [] \n",
    "                for i2 in pos1: \n",
    "                    if i not in puz[i2]: \n",
    "                        y1 = get_box[(i2,cols)]\n",
    "                        if i not in hstack(puz[y1[0]:y1[1],y1[2]:y1[3]]):\n",
    "                            try2.append((i,i2,cols))\n",
    "                if len(try2) == 1: \n",
    "                    #print(try2[0])\n",
    "                    if puz[(try2[0][1],try2[0][2])] !=0: \n",
    "                        printp(puz)\n",
    "                        return 'Error'\n",
    "                    puz[(try2[0][1],try2[0][2])] = try2[0][0]\n",
    "                    #print(try2, 'issue')\n",
    "                    del new[(try2[0][1],try2[0][2])] \n",
    "                    \n",
    "                    \n",
    "\n",
    "        for rows in range(9):\n",
    "            remaining = set(range(1,10)) - set(puz[rows,:])\n",
    "            pos1 = where(puz[rows,:]==0)[0]\n",
    "            for i in remaining: \n",
    "                try2 = []\n",
    "                for i2 in pos1: \n",
    "                    if i not in puz[:,i2]: \n",
    "                        y1 = get_box[(rows,i2)]\n",
    "                        if i not in hstack(puz[y1[0]:y1[1],y1[2]:y1[3]]):\n",
    "                            try2.append((i,rows,i2))\n",
    "                if len(try2) == 1: \n",
    "                    #print(try2[0])\n",
    "                    if puz[(try2[0][1],try2[0][2])] !=0: \n",
    "                        return 'Error'\n",
    "                    puz[(try2[0][1],try2[0][2])] = try2[0][0]\n",
    "                    del new[(try2[0][1],try2[0][2])] \n",
    "                    \n",
    "        for boxs in range(1,10):\n",
    "            y1 = box[boxs]\n",
    "            remaining = set(range(1,10)) - set(hstack(puz[y1[0]:y1[1],y1[2]:y1[3]]))\n",
    "            d1, d2 = where(puz[y1[0]:y1[1],y1[2]:y1[3]] == 0 ) \n",
    "            pos1 = [(x+y1[0],y+y1[2]) for x,y in zip(d1,d2)]\n",
    "            for i in remaining: \n",
    "                try2 = []\n",
    "                for i2 in pos1:\n",
    "                    if i not in puz[i2[0],:]:\n",
    "                        if i not in puz[:,i2[1]]:\n",
    "                            try2.append(( i, i2[0], i2[1] ))\n",
    "                if len(try2) == 1: \n",
    "                    #print(try2[0])\n",
    "                    if puz[(try2[0][1],try2[0][2])] !=0: \n",
    "                        return 'Error'\n",
    "                    puz[(try2[0][1],try2[0][2])] = try2[0][0]\n",
    "                    del new[(try2[0][1],try2[0][2])] \n",
    "                    \n",
    "        number_left.append(len(new.keys() ))   \n",
    "        if number_left[-2] == number_left[-1]:\n",
    "            return 'BREAK'\n",
    "        if len(new)==0:\n",
    "            return 'DONE!'\n",
    "            "
   ]
  },
  {
   "cell_type": "code",
   "execution_count": 34,
   "metadata": {},
   "outputs": [],
   "source": [
    "dels = []\n",
    "for i in new.keys():\n",
    "    try1 = i\n",
    "    c1 = set(range(1,10))- set(puz[:,try1[1]]) #column\n",
    "    r1 = set(range(1,10))- set(puz[try1[0],:]) #row\n",
    "    y1 = get_box[try1]\n",
    "    b1 = set(range(1,10))-set(hstack(puz[y1[0]:y1[1],y1[2]:y1[3]])) #box\n",
    "    cand = r1 & c1 & b1\n",
    "    new[try1] = cand\n",
    "    if len(cand)==1:\n",
    "        print(try1)\n",
    "        puz[i[0],i[1]] = list(cand)[0]\n",
    "        dels.append(try1)"
   ]
  },
  {
   "cell_type": "code",
   "execution_count": 106,
   "metadata": {},
   "outputs": [
    {
     "name": "stdout",
     "output_type": "stream",
     "text": [
      " 9 7 5 | 0 8 0 | 1 0 4\n",
      " 1 2 6 | 4 5 9 | 8 7 3\n",
      " 0 3 4 | 0 7 6 | 5 9 2\n",
      " ---------------------\n",
      " 0 0 2 | 3 4 0 | 6 5 1\n",
      " 6 5 1 | 0 9 2 | 4 3 0\n",
      " 4 8 3 | 0 1 5 | 0 0 0\n",
      " ---------------------\n",
      " 2 4 8 | 5 3 7 | 9 1 0\n",
      " 3 1 7 | 0 6 0 | 2 8 0\n",
      " 5 0 0 | 0 2 1 | 0 4 0\n",
      "Solve Now\n",
      "DONE!!\n",
      " 9 7 5 | 0 8 0 | 1 0 4\n",
      " 1 2 6 | 4 5 9 | 8 7 3\n",
      " 0 3 4 | 0 7 6 | 5 9 2\n",
      " ---------------------\n",
      " 0 0 2 | 3 4 0 | 6 5 1\n",
      " 6 5 1 | 0 9 2 | 4 3 0\n",
      " 4 8 3 | 0 1 5 | 0 0 0\n",
      " ---------------------\n",
      " 2 4 8 | 5 3 7 | 9 1 0\n",
      " 3 1 7 | 0 6 0 | 2 8 0\n",
      " 5 0 0 | 0 2 1 | 0 4 0\n"
     ]
    }
   ],
   "source": [
    "for r in range(0,9):\n",
    "    if (r ==3) or (r ==6):\n",
    "        print(' ---------------------')\n",
    "    s1 = ''\n",
    "    cnt=0\n",
    "    for i in puz[r,:]: \n",
    "        if (cnt ==3) or (cnt ==6):\n",
    "            s1 = s1+' |'\n",
    "        s1 = s1+' '+str(int(i))\n",
    "        cnt+=1\n",
    "    print(s1)\n",
    "    \n",
    "print('Solve Now')    \n",
    "solve(puz)\n",
    "for r in range(0,9):\n",
    "    if (r ==3) or (r ==6):\n",
    "        print(' ---------------------')\n",
    "    s1 = ''\n",
    "    cnt=0\n",
    "    for i in puz[r,:]: \n",
    "        if (cnt ==3) or (cnt ==6):\n",
    "            s1 = s1+' |'\n",
    "        s1 = s1+' '+str(int(i))\n",
    "        cnt+=1\n",
    "    print(s1)"
   ]
  },
  {
   "cell_type": "code",
   "execution_count": 108,
   "metadata": {},
   "outputs": [
    {
     "name": "stdout",
     "output_type": "stream",
     "text": [
      "DONE!!\n"
     ]
    }
   ],
   "source": [
    "solve(puz)"
   ]
  },
  {
   "cell_type": "code",
   "execution_count": 109,
   "metadata": {},
   "outputs": [
    {
     "data": {
      "text/plain": [
       "array([[9, 7, 5, 0, 8, 0, 1, 0, 4],\n",
       "       [1, 2, 6, 4, 5, 9, 8, 7, 3],\n",
       "       [0, 3, 4, 0, 7, 6, 5, 9, 2],\n",
       "       [0, 0, 2, 3, 4, 0, 6, 5, 1],\n",
       "       [6, 5, 1, 0, 9, 2, 4, 3, 0],\n",
       "       [4, 8, 3, 0, 1, 5, 0, 0, 0],\n",
       "       [2, 4, 8, 5, 3, 7, 9, 1, 0],\n",
       "       [3, 1, 7, 0, 6, 0, 2, 8, 0],\n",
       "       [5, 0, 0, 0, 2, 1, 0, 4, 0]])"
      ]
     },
     "execution_count": 109,
     "metadata": {},
     "output_type": "execute_result"
    }
   ],
   "source": [
    "puz"
   ]
  },
  {
   "cell_type": "code",
   "execution_count": 223,
   "metadata": {},
   "outputs": [
    {
     "name": "stdout",
     "output_type": "stream",
     "text": [
      " 1 0 0 | 5 7 6 | 0 9 0\n",
      " 0 9 3 | 2 0 4 | 0 0 7\n",
      " 0 0 8 | 0 1 0 | 0 4 0\n",
      " ---------------------\n",
      " 0 6 7 | 0 0 0 | 0 0 0\n",
      " 5 0 9 | 1 0 0 | 6 0 0\n",
      " 3 1 0 | 0 6 0 | 0 0 2\n",
      " ---------------------\n",
      " 0 8 1 | 6 0 0 | 0 2 3\n",
      " 2 0 0 | 0 0 9 | 7 5 1\n",
      " 0 7 0 | 0 0 1 | 8 0 0\n"
     ]
    }
   ],
   "source": [
    "for r in range(0,9):\n",
    "    if (r ==3) or (r ==6):\n",
    "        print(' ---------------------')\n",
    "    s1 = ''\n",
    "    cnt=0\n",
    "    for i in puz[r,:]: \n",
    "        if (cnt ==3) or (cnt ==6):\n",
    "            s1 = s1+' |'\n",
    "        s1 = s1+' '+str(int(i))\n",
    "        cnt+=1\n",
    "    print(s1)"
   ]
  }
 ],
 "metadata": {
  "anaconda-cloud": {},
  "kernelspec": {
   "display_name": "Python 3",
   "language": "python",
   "name": "python3"
  },
  "language_info": {
   "codemirror_mode": {
    "name": "ipython",
    "version": 3
   },
   "file_extension": ".py",
   "mimetype": "text/x-python",
   "name": "python",
   "nbconvert_exporter": "python",
   "pygments_lexer": "ipython3",
   "version": "3.6.0"
  }
 },
 "nbformat": 4,
 "nbformat_minor": 2
}
